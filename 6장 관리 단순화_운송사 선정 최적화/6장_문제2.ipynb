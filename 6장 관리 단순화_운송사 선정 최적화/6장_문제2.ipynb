{
  "nbformat": 4,
  "nbformat_minor": 0,
  "metadata": {
    "colab": {
      "provenance": []
    },
    "kernelspec": {
      "name": "python3",
      "display_name": "Python 3"
    },
    "language_info": {
      "name": "python"
    }
  },
  "cells": [
    {
      "cell_type": "markdown",
      "source": [
        "# 6장 문제2. 관리 단순화를 위한 운송사 선정 최적화\n",
        "- 문제1 + 최대운송사개수 제약"
      ],
      "metadata": {
        "id": "Hi9QJ9a5eT6h"
      }
    },
    {
      "cell_type": "code",
      "source": [
        "!pip install pulp"
      ],
      "metadata": {
        "colab": {
          "base_uri": "https://localhost:8080/"
        },
        "id": "cjfEuOJLq2hl",
        "outputId": "9619c6f3-b187-430f-b03d-8db3ce8a78c9"
      },
      "execution_count": 1,
      "outputs": [
        {
          "output_type": "stream",
          "name": "stdout",
          "text": [
            "Collecting pulp\n",
            "  Downloading pulp-3.1.1-py3-none-any.whl.metadata (1.3 kB)\n",
            "Downloading pulp-3.1.1-py3-none-any.whl (16.4 MB)\n",
            "\u001b[2K   \u001b[90m━━━━━━━━━━━━━━━━━━━━━━━━━━━━━━━━━━━━━━━━\u001b[0m \u001b[32m16.4/16.4 MB\u001b[0m \u001b[31m54.1 MB/s\u001b[0m eta \u001b[36m0:00:00\u001b[0m\n",
            "\u001b[?25hInstalling collected packages: pulp\n",
            "Successfully installed pulp-3.1.1\n"
          ]
        }
      ]
    },
    {
      "cell_type": "code",
      "source": [
        "import pandas as pd\n",
        "import time\n",
        "import pulp\n",
        "from pulp import LpProblem, LpMinimize, LpVariable, lpSum, LpInteger, value\n",
        "\n",
        "def optimize_truck_assignment():\n",
        "    start_time = time.time()\n",
        "\n",
        "    #--------------------------------------------------------\n",
        "    # 1) 엑셀에서 데이터 읽어오기\n",
        "    #--------------------------------------------------------\n",
        "    input_file = \"/content/sample_data/운송사_기준정보.xlsx\"\n",
        "\n",
        "    # A~E열: (운송사, 운송구간, 트럭유형, 운송단가, 트럭대수)\n",
        "    df = pd.read_excel(input_file, sheet_name=0, usecols=\"A:E\")\n",
        "\n",
        "    # H~J열: (운송구간, 트럭유형, 필요대수)\n",
        "    df_demand = pd.read_excel(input_file, sheet_name=0, usecols=\"H:J\")\n",
        "    df_demand.columns = ['운송구간', '트럭유형', '필요대수']\n",
        "\n",
        "    # M열: 최대 선택 가능한 운송사 수\n",
        "    max_trucker_num = pd.read_excel(input_file, sheet_name=0, usecols=\"M\").iloc[0, 0]\n",
        "\n",
        "    # 데이터 클리닝\n",
        "    df['운송단가'] = pd.to_numeric(df['운송단가'], errors='coerce')\n",
        "    df['트럭대수'] = pd.to_numeric(df['트럭대수'], errors='coerce')\n",
        "    df_demand['필요대수'] = pd.to_numeric(df_demand['필요대수'], errors='coerce')\n",
        "\n",
        "    df.dropna(subset=['운송단가', '트럭대수'], inplace=True)\n",
        "    df_demand.dropna(subset=['필요대수'], inplace=True)\n",
        "\n",
        "    #--------------------------------------------------------\n",
        "    # 2) 파라미터 구성\n",
        "    #--------------------------------------------------------\n",
        "    cost_dict = {}      # {(운송사, 구간, 트럭유형): 단가}\n",
        "    capacity_dict = {}  # {(운송사, 구간, 트럭유형): 트럭대수}\n",
        "    for _, row in df.iterrows():\n",
        "        key = (row['운송사'], row['운송구간'], row['트럭유형'])\n",
        "        cost_dict[key] = row['운송단가']\n",
        "        capacity_dict[key] = row['트럭대수']\n",
        "\n",
        "    demand_dict = {}    # {(구간, 트럭유형): 필요대수}\n",
        "    for _, row in df_demand.iterrows():\n",
        "        key = (row['운송구간'], row['트럭유형'])\n",
        "        demand_dict[key] = row['필요대수']\n",
        "\n",
        "    truckers = df['운송사'].unique()\n",
        "    route_type_list = demand_dict.keys()\n",
        "\n",
        "    #--------------------------------------------------------\n",
        "    # 3) PuLP 모델 생성\n",
        "    #--------------------------------------------------------\n",
        "    prob = LpProblem(\"Truck_Optimization\", LpMinimize)\n",
        "\n",
        "    #--------------------------------------------------------\n",
        "    # 4) 결정변수\n",
        "    #--------------------------------------------------------\n",
        "    x_vars = {}\n",
        "    for (i, r, t), cost in cost_dict.items():\n",
        "        x_vars[(i, r, t)] = LpVariable(f\"x_{i}_{r}_{t}\", lowBound=0, cat=LpInteger)\n",
        "\n",
        "    y_vars = {i: LpVariable(f\"y_{i}\", cat='Binary') for i in truckers}\n",
        "\n",
        "    #--------------------------------------------------------\n",
        "    # 5) 목적함수: 총 운송비 최소화\n",
        "    #--------------------------------------------------------\n",
        "    prob += lpSum([cost_dict[(i, r, t)] * x_vars[(i, r, t)] for (i, r, t) in cost_dict]), \"Minimize_TotalCost\"\n",
        "\n",
        "    #--------------------------------------------------------\n",
        "    # 6) 제약조건\n",
        "    #--------------------------------------------------------\n",
        "    # (1) 각 (구간, 트럭유형)에 대한 필요대수 충족\n",
        "    for (r, t) in route_type_list:\n",
        "        prob += lpSum([x_vars[(i, r, t)] for i in truckers if (i, r, t) in x_vars]) == demand_dict[(r, t)], f\"Demand_{r}_{t}\"\n",
        "\n",
        "    # (2) 각 운송사별 보유 트럭 수 제한\n",
        "    for (i, r, t), capacity in capacity_dict.items():\n",
        "        prob += x_vars[(i, r, t)] <= capacity, f\"Capacity_{i}_{r}_{t}\"\n",
        "\n",
        "    # (3) 운송사가 선택되었을 경우에만 트럭 배정\n",
        "    for i in truckers:\n",
        "        for (r, t) in route_type_list:\n",
        "            if (i, r, t) in x_vars:\n",
        "                prob += x_vars[(i, r, t)] <= capacity_dict[(i, r, t)] * y_vars[i], f\"Truck_Selection_{i}_{r}_{t}\"\n",
        "\n",
        "    # (4) 선택된 운송사 수 제한\n",
        "    prob += lpSum([y_vars[i] for i in truckers]) <= max_trucker_num, \"Max_Truckers\"\n",
        "\n",
        "    #--------------------------------------------------------\n",
        "    # 7) 최적화 실행\n",
        "    #--------------------------------------------------------\n",
        "    prob.solve(pulp.PULP_CBC_CMD(msg=0))\n",
        "    status = prob.status\n",
        "\n",
        "    print(\"Status:\", pulp.LpStatus[status])\n",
        "    if status not in [1, 2]:\n",
        "        print(\"=> 유효한 해를 찾지 못했습니다.\")\n",
        "        return\n",
        "\n",
        "    total_cost = value(prob.objective)\n",
        "    print(\"총 운송비:\", total_cost)\n",
        "\n",
        "    #--------------------------------------------------------\n",
        "    # 8) 결과 정리 및 저장\n",
        "    #--------------------------------------------------------\n",
        "    result_data = []\n",
        "    for (i, r, t), var in x_vars.items():\n",
        "        if var.varValue > 0:\n",
        "            result_data.append([i, r, t, cost_dict[(i, r, t)], int(var.varValue)])\n",
        "\n",
        "    df_result = pd.DataFrame(result_data, columns=['운송사', '운송구간', '트럭유형', '운송단가', '선택된트럭수'])\n",
        "    df_result.sort_values(by=['운송구간', '트럭유형'], inplace=True)\n",
        "\n",
        "    output_file = \"/content/sample_data/운송사_최적화결과.xlsx\"\n",
        "    df_result.to_excel(output_file, index=False)\n",
        "\n",
        "    print(\"\\n--- 배정 결과 ---\")\n",
        "    print(df_result.to_string(index=False))\n",
        "\n",
        "    end_time = time.time()\n",
        "    print(\"\\n프로그램 수행시간(초):\", round(end_time - start_time, 4))\n",
        "\n",
        "\n",
        "if __name__ == \"__main__\":\n",
        "    optimize_truck_assignment()\n"
      ],
      "metadata": {
        "colab": {
          "base_uri": "https://localhost:8080/"
        },
        "id": "q7ocsroqWlM8",
        "outputId": "d11f4989-f977-4566-d81b-b8e77c57d357"
      },
      "execution_count": 2,
      "outputs": [
        {
          "output_type": "stream",
          "name": "stdout",
          "text": [
            "Status: Optimal\n",
            "총 운송비: 1600.0\n",
            "\n",
            "--- 배정 결과 ---\n",
            "  운송사 운송구간 트럭유형  운송단가  선택된트럭수\n",
            "운송사02 구간01 트럭01   150       2\n",
            "운송사02 구간01 트럭02   150       2\n",
            "운송사02 구간02 트럭01   150       2\n",
            "운송사02 구간02 트럭02   350       2\n",
            "\n",
            "프로그램 수행시간(초): 1.3415\n"
          ]
        }
      ]
    }
  ]
}